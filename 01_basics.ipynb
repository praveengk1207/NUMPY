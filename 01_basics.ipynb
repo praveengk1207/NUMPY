{
 "cells": [
  {
   "cell_type": "code",
   "execution_count": 2,
   "id": "b1197c6f-cf3d-4004-8fae-1afaeddb5593",
   "metadata": {},
   "outputs": [],
   "source": [
    "import numpy #we are importing numpy\n"
   ]
  },
  {
   "cell_type": "code",
   "execution_count": 4,
   "id": "d9ca39ee-4575-42fc-b4a0-f94d016a8fa8",
   "metadata": {},
   "outputs": [],
   "source": [
    "import numpy as np #we are creating a reference for numpy as np for convenience etc"
   ]
  },
  {
   "cell_type": "code",
   "execution_count": 5,
   "id": "838693c5-f55a-4f28-af82-d57d7498f810",
   "metadata": {},
   "outputs": [
    {
     "name": "stdout",
     "output_type": "stream",
     "text": [
      "1.26.2\n"
     ]
    }
   ],
   "source": [
    "import numpy as np\n",
    "\n",
    "print(np.__version__)"
   ]
  },
  {
   "cell_type": "code",
   "execution_count": null,
   "id": "1aaff26e-f6fb-4c2c-a549-e38a391417b3",
   "metadata": {},
   "outputs": [],
   "source": []
  }
 ],
 "metadata": {
  "kernelspec": {
   "display_name": "Python 3 (ipykernel)",
   "language": "python",
   "name": "python3"
  },
  "language_info": {
   "codemirror_mode": {
    "name": "ipython",
    "version": 3
   },
   "file_extension": ".py",
   "mimetype": "text/x-python",
   "name": "python",
   "nbconvert_exporter": "python",
   "pygments_lexer": "ipython3",
   "version": "3.12.0"
  }
 },
 "nbformat": 4,
 "nbformat_minor": 5
}
